{
 "cells": [
  {
   "cell_type": "code",
   "execution_count": 2,
   "id": "f4b444d4",
   "metadata": {},
   "outputs": [],
   "source": [
    "import numpy as np\n",
    "import matplotlib.pyplot as plt\n",
    "from scipy.integrate import *\n",
    "from sympy import *"
   ]
  },
  {
   "cell_type": "markdown",
   "id": "30324e2e",
   "metadata": {},
   "source": [
    "## Quaternion (Euler Parameter) Attitude description"
   ]
  },
  {
   "cell_type": "markdown",
   "id": "1f9fd503",
   "metadata": {},
   "source": [
    "The quaternion attitude coordinate set (i.e: {$q_0, q_1, q_2, q_3$}) provides for a redundant, non-singular attitude description."
   ]
  },
  {
   "cell_type": "markdown",
   "id": "03fda66b",
   "metadata": {},
   "source": [
    "The directional cosine matrix is defined as:\n",
    "\n",
    "$$\n",
    "[C(q_0, q_1, q_2, q_3)] = \\left[\\begin{array}{cc} \n",
    "q_0^2 + q_1^2 - q_2^2 - q_3^2 & 2(q_1q_2 + q_0q_3) & 2(q_1q_3 - q_0q_2)\\\\\n",
    "2(q_1q_2 - q_0q_3) & q_0^2 - q_1^2 + q_2^2 - q_3^2 & 2(q_2q_3 + q_0q_1) \\\\\n",
    "2(q_1q_3 + q_0q_2) & 2(q_2q_3 - q_0q_1) & q_0^2 - q_1^2 - q_2^2 + q_3^2 \n",
    "\\end{array}\\right] \n",
    "$$"
   ]
  },
  {
   "cell_type": "code",
   "execution_count": 3,
   "id": "bcf9754e",
   "metadata": {},
   "outputs": [],
   "source": [
    "#Given a set of quaternions i.e (q_0, q_1, q_2, q_3) OR (phi, e_1, e_2, e_3) the corresponding DCM can be established.\n",
    "\n",
    "def Q_to_DCM(q):\n",
    "    \n",
    "    q_0, q_1, q_2, q_3 = q\n",
    "    \n",
    "    return np.array([[q_0**2 + q_1**2 - q_2**2 - q_3**2, 2 * (q_1 * q_2 + q_0 * q_3), 2 * (q_1 * q_3 - q_0 * q_2)],\n",
    "                     [2 * (q_1 * q_2 - q_0 * q_3), q_0**2 - q_1**2 + q_2**2 - q_3**2, 2 * (q_2 * q_3 + q_0 * q_1)],\n",
    "                     [2 * (q_1 * q_3 + q_0 * q_2), 2 * (q_2 * q_3 - q_0 * q_1), q_0**2 - q_1**2 - q_2**2 + q_3**2]],\n",
    "                     dtype = np.float64)\n"
   ]
  },
  {
   "cell_type": "code",
   "execution_count": 4,
   "id": "c92075d5",
   "metadata": {},
   "outputs": [
    {
     "name": "stdout",
     "output_type": "stream",
     "text": [
      "Directional Cosine Matrix\n",
      "[[-0.44444488 -0.11111228  0.88888975]\n",
      " [-0.77777842 -0.44444488 -0.44444535]\n",
      " [ 0.44444535 -0.88888975  0.11111039]]\n"
     ]
    }
   ],
   "source": [
    "q = np.array([0.235702, 0.471405, -0.471405, 0.707107])\n",
    "\n",
    "print(\"Directional Cosine Matrix\")\n",
    "\n",
    "print(Q_to_DCM(q))"
   ]
  },
  {
   "cell_type": "markdown",
   "id": "72a13c03",
   "metadata": {},
   "source": [
    "The inverse mapprings from the DCM to the corresponding quaternion set can be achived by Stanley's algorithm:\n",
    "\n",
    "$$\n",
    "q_0^2 = \\frac{1}{4} (1 + Trace[C(q_0, q_1, q_2, q_3)])\n",
    "$$\n",
    "$$\n",
    "q_1^2 = \\frac{1}{4} (1 + 2C_{11} -Trace[C(q_0, q_1, q_2, q_3)])\n",
    "$$\n",
    "$$\n",
    "q_2^2 = \\frac{1}{4} (1 + 2C_{22} - Trace[C(q_0, q_1, q_2, q_3)])\n",
    "$$\n",
    "$$\n",
    "q_3^2 = \\frac{1}{4} (1 + 2C_{33} - Trace[C(q_0, q_1, q_2, q_3)])\n",
    "$$"
   ]
  },
  {
   "cell_type": "markdown",
   "id": "c084d958",
   "metadata": {},
   "source": [
    "The largest $q_i^2$ is empirically chosen and determined by taking its square root, whilst the remaining $q_i's$ are discoved via these general relations:"
   ]
  },
  {
   "cell_type": "markdown",
   "id": "5b8de067",
   "metadata": {},
   "source": [
    "$$\n",
    "q_0q_1 = (C_{23} - c_{32})/4\n",
    "$$\n",
    "$$\n",
    "q_0q_2 = (C_{31} - c_{13})/4\n",
    "$$\n",
    "$$\n",
    "q_0q_3 = (C_{12} - c_{21})/4\n",
    "$$\n",
    "$$\n",
    "q_2q_3 = (C_{23} - c_{32})/4\n",
    "$$\n",
    "$$\n",
    "q_3q_1 = (C_{31} - c_{13})/4\n",
    "$$\n",
    "$$\n",
    "q_1q_2 = (C_{12} - c_{21})/4\n",
    "$$"
   ]
  },
  {
   "cell_type": "code",
   "execution_count": null,
   "id": "ed7d15e6",
   "metadata": {},
   "outputs": [],
   "source": [
    "#Using Sheppard's/Stanley's Algorithm, one can obtain the Quaternion elements corresponding to a DCM.\n",
    "\n",
    "def DCM_to_Q(C):\n",
    "    \n",
    "    q = []\n",
    "    \n",
    "    q_0_2 = 0.25 * (1 + C.trace())\n",
    "    q_1_2 = 0.25 * (1 + 2 * C[0][0] - C.trace())\n",
    "    q_2_2 = 0.25 * (1 + 2 * C[1][1] - C.trace())\n",
    "    q_3_2 = 0.25 * (1 + 2 * C[2][2] - C.trace())\n",
    "    \n",
    "    q.extend([q_0_2, q_1_2, q_2_2, q_3_2])\n",
    "    \n",
    "    if max(q) == q[0]:\n",
    "        \n",
    "        Q = []\n",
    "        \n",
    "        q_0 = np.sqrt(q_0_2)\n",
    "        q_1 = (C[1][2] - C[2][1]) / (4 * q_0)\n",
    "        q_2 = (C[2][0] - C[0][2]) / (4 * q_0)\n",
    "        q_3 = (C[0][1] - C[1][0]) / (4 * q_0)\n",
    "        \n",
    "        Q.extend([q_0, q_1, q_2, q_3])\n",
    "           \n",
    "    elif max(q) == q[1]:\n",
    "        \n",
    "        Q = []\n",
    "        \n",
    "        q_1 = np.sqrt(q_1_2)\n",
    "        q_0 = (C[1][2] - C[2][1]) / (4 * q_1)\n",
    "        q_2 = (C[0][1] + C[1][0]) / (4 * q_1)\n",
    "        q_3 = (C[2][0] + C[0][2]) / (4 * q_1)\n",
    "        \n",
    "        Q.extend([q_0, q_1, q_2, q_3])\n",
    "    \n",
    "    elif max(q) == q[2]:\n",
    "        \n",
    "        Q = []\n",
    "        \n",
    "        q_2 = np.sqrt(q_2_2)\n",
    "        q_0 = (C[2][0] - C[0][2]) / (4 * q_2)\n",
    "        q_1 = (C[0][1] + C[1][0]) / (4 * q_2)\n",
    "        q_3 = (C[1][2] + C[2][1]) / (4 * q_2)\n",
    "        \n",
    "        Q.extend([q_0, q_1, q_2, q_3])\n",
    "        \n",
    "    elif max(q) == q[3]:\n",
    "        \n",
    "        Q = []\n",
    "        \n",
    "        q_3 = np.sqrt(q_3_2)\n",
    "        q_0 = (C[0][1] - C[1][0]) / (4 * q_3)\n",
    "        q_1 = (C[2][0] + C[0][2]) / (4 * q_3)\n",
    "        q_2 = (C[1][2] + C[2][1]) / (4 * q_3) \n",
    "        \n",
    "        Q.extend([q_0, q_1, q_2, q_3])\n",
    "\n",
    "    return Q\n"
   ]
  },
  {
   "cell_type": "code",
   "execution_count": null,
   "id": "f356d5c3",
   "metadata": {},
   "outputs": [],
   "source": [
    "C = np.array([[-0.529403, -0.467046,  0.708231],\n",
    "              [-0.474115, -0.529403, -0.703525],\n",
    "              [ 0.703525, -0.708231, 0.0588291]])\n",
    "\n",
    "print(DCM_to_Q(C))"
   ]
  },
  {
   "cell_type": "code",
   "execution_count": null,
   "id": "f8034e65",
   "metadata": {},
   "outputs": [],
   "source": [
    "#Quaternion Addition.\n",
    "\n",
    "\"\"\"\n",
    "Example: Given q_B/N and q_F/B what is q_F/N?\n",
    "This is no other than: [FN(q)] = [FB(q\")][BN(q')] using DCM properties.\n",
    "Also one can find:     [BN(q')] = [FB(q\")]^T[FN(q)]\n",
    "\"\"\"\n",
    "\n",
    "def quaternion_addition(qp, qdp):\n",
    "    \n",
    "    qp_0, qp_1, qp_2, qp_3 = qp\n",
    "    \n",
    "    qdp_0, qdp_1, qdp_2, qdp_3 = qdp\n",
    "    \n",
    "    q_dprime = np.array([[qdp_0, -qdp_1, -qdp_2, -qdp_3],\n",
    "                         [qdp_1,  qdp_0,  qdp_3, -qdp_2],\n",
    "                         [qdp_2, -qdp_3,  qdp_0,  qdp_1],\n",
    "                         [qdp_3,  qdp_2, -qdp_1,  qdp_0]],\n",
    "                         dtype = np.float64) \n",
    "    \n",
    "    q_prime = np.array([qp_0, qp_1, qp_2, qp_3])\n",
    "    \n",
    "    \n",
    "    #[FN(q)] = [FB(q\")][BN(q')]\n",
    "    q = q_dprime.dot(q_prime)\n",
    "    \n",
    "    \"\"\"If one needs to find q_prime (q') when given q and q_dprime (q\"), just transpose q_drprime \n",
    "    and find its dot product with q using q_prime as a placeholder for q.\"\"\"\n",
    "    \n",
    "    #Therefore: [BN(q')] = [FB(q\")]^T[FN(q)]\n",
    "    transp_qdp = q_dprime.T\n",
    "    \n",
    "    q_p = transp_qdp.dot(q_prime)\n",
    "    \n",
    "    return q, q_p"
   ]
  },
  {
   "cell_type": "code",
   "execution_count": null,
   "id": "4d31cdf8",
   "metadata": {},
   "outputs": [],
   "source": [
    "#One is given q_prime and q_dprime, therefore solving for q we call q()[0]:\n",
    "\n",
    "qp = [0.774597, 0.258199, 0.516398, 0.258199]\n",
    "qdp = [0.359211, 0.898027, 0.179605, 0.179605]\n",
    "\n",
    "print(q(qp, qdp)[0])"
   ]
  },
  {
   "cell_type": "code",
   "execution_count": null,
   "id": "ec09cc94",
   "metadata": {},
   "outputs": [],
   "source": [
    "#One is given q and q_dprime, therefore solving for q_prime we call q()[1]:\n",
    "\n",
    "q_ = [0.359211, 0.898027, 0.179605, 0.179605]\n",
    "qdp = [-0.377964, 0.755929, 0.377964, 0.377964]\n",
    "\n",
    "print(q(q_, qdp)[1])"
   ]
  },
  {
   "cell_type": "code",
   "execution_count": null,
   "id": "2a2f2a0b",
   "metadata": {},
   "outputs": [],
   "source": [
    "\"\"\"\n",
    "In order to express in terms (q\") one has to transmutate [FN(q)] above.\n",
    "\n",
    "Example: Given q_B/N and q_F/N what is q_F/B?\n",
    "This is once again no other than: [FB(q\")] = [BN(q')][FN(q)] using DCM properties.\n",
    "Also one can find:     [FN(q)] = [BN(q')]^T[FB(q\")]\n",
    "\"\"\"\n",
    "\n",
    "\n",
    "def q_transmuted(qp, qdp):\n",
    "    \n",
    "    qp_0, qp_1, qp_2, qp_3 = qp\n",
    "    \n",
    "    qdp_0, qdp_1, qdp_2, qdp_3 = qdp\n",
    "    \n",
    "    q_prime = np.array([[qp_0,  -qp_1, -qp_2, -qp_3],\n",
    "                         [qp_1,  qp_0, -qp_3,  qp_2],\n",
    "                         [qp_2, -qp_3,  qp_0, -qp_1],\n",
    "                         [qp_3, -qp_2,  qp_1,  qp_0]],\n",
    "                         dtype = np.float64)\n",
    "    \n",
    "    q_dprime = np.array([qdp_0, qdp_1, qdp_2, qdp_3])\n",
    "    \n",
    "    #Solving for q:\n",
    "    q = q_prime.dot(q_dprime)\n",
    "    \n",
    "    #Solving for q_dp using q_dprime as a placeholder for q unprimed:\n",
    "    \n",
    "    transp_qp = q_prime.T\n",
    "    \n",
    "    q_dp = transp_qp.dot(q_dprime)\n",
    "    \n",
    "    return q, q_dp"
   ]
  },
  {
   "cell_type": "markdown",
   "id": "c94543d1",
   "metadata": {},
   "source": [
    "## Quaternion Kinematic Differential Equations:"
   ]
  },
  {
   "cell_type": "markdown",
   "id": "ae493047",
   "metadata": {},
   "source": [
    "$$\n",
    "\\left(\\begin{array}{cc} \n",
    "\\dot{\\beta_0}\\\\\n",
    "\\dot{\\beta_1}\\\\\n",
    "\\dot{\\beta_2}\\\\\n",
    "\\dot{\\beta_3}\n",
    "\\end{array}\\right)\n",
    "=\n",
    "\\frac{1}{2}\n",
    "\\left[\\begin{array}{cc} \n",
    "\\beta_0 & -\\beta_1 & -\\beta_2 & -\\beta_3\\\\\n",
    "\\beta_1 & \\beta_0 & -\\beta_3 & \\beta_2\\\\\n",
    "\\beta_2 & \\beta_3 & \\beta_0 & -\\beta_1\\\\\n",
    "\\beta_3 & -\\beta_2 & \\beta_1 & \\beta_0\n",
    "\\end{array}\\right]\n",
    ".\n",
    "\\left(\\begin{array}{cc} \n",
    "0\\\\\n",
    "\\omega_1\\\\\n",
    "\\omega_2\\\\\n",
    "\\omega_3\n",
    "\\end{array}\\right) \n",
    "$$\n",
    "\n"
   ]
  },
  {
   "cell_type": "markdown",
   "id": "b79f01d2",
   "metadata": {},
   "source": [
    "Which can be compactly written as:"
   ]
  },
  {
   "cell_type": "markdown",
   "id": "95402ded",
   "metadata": {},
   "source": [
    "$$\n",
    "\\dot{\\beta} = \\frac{1}{2}[B(\\beta)]\\omega\n",
    "$$"
   ]
  },
  {
   "cell_type": "code",
   "execution_count": 4,
   "id": "23e81539",
   "metadata": {},
   "outputs": [],
   "source": [
    "#Initial Conditions:\n",
    "dt = 0.001\n",
    "T = 42\n",
    "N = int(T/dt)\n",
    "y0 = np.array([0.408248, 0., 0.408248, 0.816497])\n",
    "t = 0\n",
    "\n",
    "\"\"\"\n",
    "A RK4 integrator is created and compared to scipy's odeint module for determining solutions to the \n",
    "Quaternion kinematic differential equations. \n",
    "\n",
    "\"\"\"\n",
    "\n",
    "\n",
    "def Quaternion_Kinematic_Eq(t, y):\n",
    "    \n",
    "    q_0, q_1, q_2, q_3 = y\n",
    "    \n",
    "    Q = np.array([[q_0, -q_1, -q_2, -q_3],\n",
    "                  [q_1,  q_0, -q_3,  q_2],\n",
    "                  [q_2,  q_3,  q_0, -q_1],\n",
    "                  [q_3, -q_2,  q_1,  q_0]])\n",
    "    \n",
    "    w = np.array([0, sin(0.1 * t), 0.01, cos(0.1 * t)])\n",
    "    \n",
    "    k = np.deg2rad(20)\n",
    "    \n",
    "    dQdt = np.dot(Q, w) * k * 1/2\n",
    "    \n",
    "    return dQdt\n",
    "\n",
    "\n",
    "\n",
    "def RK4(f, dt, y0, t):\n",
    "    \n",
    "    y_plot = np.zeros((N-1,4))\n",
    "    t_plot = []\n",
    "                      \n",
    "    for i in range(0, N-1): \n",
    "    \n",
    "        f1 = f(t, y0)\n",
    "        f2 = f(t + (dt / 2), y0 + (dt / 2) * f1)\n",
    "        f3 = f(t + (dt / 2), y0 + (dt / 2) * f2)\n",
    "        f4 = f(t + dt, y0 + dt * f3)\n",
    "    \n",
    "        y0 = y0 + (dt / 6) * (f1 + 2 * f2 + 2 * f3 + f4)\n",
    "        \n",
    "        t = t + dt\n",
    "        \n",
    "        y_plot[i] = y0; t_plot.append(t)\n",
    "    \n",
    "    return y_plot, t_plot\n",
    "\n",
    "\n",
    "solution = RK4(Quaternion_Kinematic_Eq, dt, y0, t)"
   ]
  },
  {
   "cell_type": "code",
   "execution_count": 5,
   "id": "98554ef9",
   "metadata": {},
   "outputs": [
    {
     "data": {
      "image/png": "[encoded data removed]",
      "text/plain": [
       "<Figure size 432x288 with 1 Axes>"
      ]
     },
     "metadata": {
      "needs_background": "light"
     },
     "output_type": "display_data"
    }
   ],
   "source": [
    "plt.plot(solution[1], solution[0][:,0], label = \"q_0\")\n",
    "plt.plot(solution[1], solution[0][:,1], label = \"q_1\")\n",
    "plt.plot(solution[1], solution[0][:,2], label = \"q_2\")\n",
    "plt.plot(solution[1], solution[0][:,3], label = \"q_3\")\n",
    "plt.legend()\n",
    "\n",
    "plt.title(\"The rate of change of q\")\n",
    "plt.xlabel(\"Time (s)\")\n",
    "plt.ylabel(\"Angles (rads)\")\n",
    "plt.grid(true)\n"
   ]
  },
  {
   "cell_type": "code",
   "execution_count": 6,
   "id": "896337b6",
   "metadata": {},
   "outputs": [
    {
     "name": "stdout",
     "output_type": "stream",
     "text": [
      "0.820106863707170\n"
     ]
    }
   ],
   "source": [
    "#Finding the norm \"Sqrt(q_1^2 + q_2^2 + q_3^2)\" at 42s.\n",
    "\n",
    "print(sqrt((solution[0][:,1][-1])**2 + (solution[0][:,2][-1])**2 + (solution[0][:,3][-1])**2 ))"
   ]
  },
  {
   "cell_type": "code",
   "execution_count": 7,
   "id": "b3992bef",
   "metadata": {},
   "outputs": [
    {
     "data": {
      "image/png": "[encoded data removed]",
      "text/plain": [
       "<Figure size 432x288 with 1 Axes>"
      ]
     },
     "metadata": {
      "needs_background": "light"
     },
     "output_type": "display_data"
    }
   ],
   "source": [
    "#Comparision with odeint.\n",
    "def Quaternion_Kinematic_Eq_(y, t):\n",
    "    \n",
    "    q_0, q_1, q_2, q_3 = y\n",
    "    \n",
    "    Q = np.array([[q_0, -q_1, -q_2, -q_3],\n",
    "                  [q_1,  q_0, -q_3,  q_2],\n",
    "                  [q_2,  q_3,  q_0, -q_1],\n",
    "                  [q_3, -q_2,  q_1,  q_0]], dtype=np.float64)\n",
    "    \n",
    "    w = np.array([0, sin(0.1 * t), 0.01, cos(0.1 * t)], dtype=np.float64)\n",
    "    \n",
    "    k = np.deg2rad(20)\n",
    "    \n",
    "    dQdt = np.dot(Q, w) * k * 1/2\n",
    "    \n",
    "    return dQdt\n",
    "\n",
    "t_ = np.linspace(0, 42, 1000)\n",
    "y0_ = np.array([0.408248, 0., 0.408248, 0.816497])\n",
    "\n",
    "soln = odeint(Quaternion_Kinematic_Eq_, y0_, t_)\n",
    "\n",
    "plt.plot(t_, soln[:,0], t_, soln[:,1], t_, soln[:,2], t_, soln[:,3])\n",
    "\n",
    "\n",
    "plt.title(\"The rate of change of q\")\n",
    "plt.xlabel(\"Time (s)\")\n",
    "plt.ylabel(\"Angles (rads)\")\n",
    "plt.grid(true)"
   ]
  },
  {
   "cell_type": "code",
   "execution_count": 16,
   "id": "6469a024",
   "metadata": {},
   "outputs": [
    {
     "name": "stdout",
     "output_type": "stream",
     "text": [
      "0.820090146577301\n"
     ]
    }
   ],
   "source": [
    "print(sqrt((soln[:,1][-1])**2 + (soln[:,2][-1])**2 + (soln[:,3][-1])**2 ))"
   ]
  }
 ],
 "metadata": {
  "kernelspec": {
   "display_name": "Python 3 (ipykernel)",
   "language": "python",
   "name": "python3"
  },
  "language_info": {
   "codemirror_mode": {
    "name": "ipython",
    "version": 3
   },
   "file_extension": ".py",
   "mimetype": "text/x-python",
   "name": "python",
   "nbconvert_exporter": "python",
   "pygments_lexer": "ipython3",
   "version": "3.9.12"
  }
 },
 "nbformat": 4,
 "nbformat_minor": 5
}
