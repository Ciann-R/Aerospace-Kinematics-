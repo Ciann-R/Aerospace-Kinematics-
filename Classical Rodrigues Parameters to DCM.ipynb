{
 "cells": [
  {
   "cell_type": "code",
   "execution_count": 2,
   "id": "1949e267",
   "metadata": {},
   "outputs": [],
   "source": [
    "import numpy as np\n",
    "import matplotlib.pyplot as plt\n",
    "from scipy.integrate import *\n",
    "from sympy import *"
   ]
  },
  {
   "cell_type": "markdown",
   "id": "df02d358",
   "metadata": {},
   "source": [
    "## The Classical Rodrigues Parameters (CRPs)."
   ]
  },
  {
   "cell_type": "markdown",
   "id": "06b8dd8a",
   "metadata": {},
   "source": [
    "The CRP directional cosine matrix is:"
   ]
  },
  {
   "cell_type": "markdown",
   "id": "98d17a5a",
   "metadata": {},
   "source": [
    "$$\n",
    "[C] = \\frac{1}{1 + q^Tq} \\left[\\begin{array}{cc} \n",
    "1 + q_1^2 - q_2^2 - q_3^2 & 2(q_1q_2 + q_3) & 2(q_1q_3 - q_2)\\\\\n",
    "2(q_1q_2 - q_3) & 1 - q_1^2 + q_2^2 - q_3^2 & 2(q_2q_3 + q_1) \\\\\n",
    "2(q_1q_3 + q_2) & 2(q_2q_3 - q_1) & 1 - q_1^2 - q_2^2 + q_3^2 \n",
    "\\end{array}\\right] \n",
    "$$"
   ]
  },
  {
   "cell_type": "code",
   "execution_count": 4,
   "id": "31e85f3c",
   "metadata": {},
   "outputs": [
    {
     "data": {
      "text/plain": [
       "array([[ 0.77192982,  0.56140351, -0.29824561],\n",
       "       [-0.49122807,  0.8245614 ,  0.28070175],\n",
       "       [ 0.40350877, -0.07017544,  0.9122807 ]])"
      ]
     },
     "execution_count": 4,
     "metadata": {},
     "output_type": "execute_result"
    }
   ],
   "source": [
    "#Classic Rodrigues Parameters.\n",
    "\n",
    "\"\"\"\n",
    "Given a set of Rodrigues parameters \"q\" (i.e: q_B/N of the body relative to the inertial frame), \n",
    "one can find the corresponging DCM.\n",
    "\n",
    "\"\"\"\n",
    "\n",
    "def CRP_to_DCM(q):\n",
    "    \n",
    "    q_1, q_2, q_3 = q\n",
    "    \n",
    "    C = np.array([[1 + q_1**2 - q_2**2 - q_3**2, 2 * (q_1 * q_2 + q_3), 2 * (q_1 * q_3 - q_2)],\n",
    "                  [2 * (q_2 * q_1 - q_3), 1 - q_1**2 + q_2**2 - q_3**2, 2 * (q_2 * q_3 + q_1)],\n",
    "                  [2 * (q_3 * q_1 + q_2), 2 * (q_3 * q_2 - q_1), 1 - q_1**2 - q_2**2 + q_3**2]],\n",
    "                  dtype = np.float64)\n",
    "    \n",
    "    K = 1 / (1 + np.dot(q.T, q))\n",
    "    \n",
    "    return K * C\n",
    "\n",
    "\n",
    "q = np.array([0.1, 0.2, 0.3])\n",
    "    \n",
    "CRP_to_DCM(q)"
   ]
  },
  {
   "cell_type": "markdown",
   "id": "0631af18",
   "metadata": {},
   "source": [
    "The inverse mapprings from the DCM to the CRPs are as follows:"
   ]
  },
  {
   "cell_type": "markdown",
   "id": "1d2f6180",
   "metadata": {},
   "source": [
    "$$\n",
    "\\zeta = \\sqrt{Trace[C] + 1}\n",
    "$$\n",
    "\n",
    "$$\n",
    "\\frac{1}{\\zeta^2} \\left[\\begin{array}{cc} \n",
    "C_{23} - C_{32} \\\\\n",
    "C_{31} - C_{13} \\\\\n",
    "C_{12} - C_{21} \n",
    "\\end{array}\\right] \n",
    "$$"
   ]
  },
  {
   "cell_type": "code",
   "execution_count": 5,
   "id": "f9e6c7d3",
   "metadata": {},
   "outputs": [],
   "source": [
    "def DCM_to_CRP(C):\n",
    "    \n",
    "    Z = np.sqrt(C.trace() + 1)\n",
    "    \n",
    "    return (1 / Z**2) * np.array([[C[1][2] - C[2][1]], \n",
    "                                  [C[2][0] - C[0][2]], \n",
    "                                  [C[0][1] - C[1][0]]])"
   ]
  },
  {
   "cell_type": "code",
   "execution_count": 6,
   "id": "78e9b3fe",
   "metadata": {},
   "outputs": [
    {
     "data": {
      "text/plain": [
       "array([[-0.2000002 ],\n",
       "       [-0.40000008],\n",
       "       [-0.60000031]])"
      ]
     },
     "execution_count": 6,
     "metadata": {},
     "output_type": "execute_result"
    }
   ],
   "source": [
    "C = np.array([[ 0.333333, -0.666667,  0.666667],\n",
    "              [ 0.871795,  0.487179, 0.0512821],\n",
    "              [-0.358974,  0.564103,   0.74359]])\n",
    "\n",
    "DCM_to_CRP(C)"
   ]
  },
  {
   "cell_type": "markdown",
   "id": "0534ce81",
   "metadata": {},
   "source": [
    "## CRP Kinematic Differential Equations:"
   ]
  },
  {
   "cell_type": "markdown",
   "id": "0ce349b3",
   "metadata": {},
   "source": [
    "$$\n",
    "[\\dot{\\beta}]\n",
    "=\n",
    "\\frac{1}{2}\n",
    "\\left[\\begin{array}{cc} \n",
    "1 + \\beta_1^2 & \\beta_1\\beta_2 - \\beta_3 & \\beta_1\\beta_3 + \\beta_2\\\\\n",
    "\\beta_2\\beta_1 + \\beta_3 & 1 + \\beta_2^2 & \\beta_3\\beta_2 - \\beta_1\\\\\n",
    "\\beta_3\\beta_1 - \\beta_2 & \\beta_3\\beta_2 + \\beta_1 & 1 + \\beta_3^2\n",
    "\\end{array}\\right]\n",
    ".\n",
    "\\left(\\begin{array}{cc} \n",
    "\\omega_1\\\\\n",
    "\\omega_2\\\\\n",
    "\\omega_3\n",
    "\\end{array}\\right) \n",
    "$$"
   ]
  },
  {
   "cell_type": "code",
   "execution_count": 7,
   "id": "aac616dc",
   "metadata": {},
   "outputs": [],
   "source": [
    "#Initial Conditions:\n",
    "dt = 0.001\n",
    "T = 42\n",
    "N = int(T/dt)\n",
    "y0 = np.array([0.4, 0.2, -0.1])\n",
    "t = 0\n",
    "\n",
    "\"\"\"\n",
    "The RK4 (Runge-Kutte) integrator is implemented to solve the first order kinematic odes. the notation between q and \"beta\" are\n",
    "used interchangably.\n",
    "\n",
    "\"\"\"\n",
    "\n",
    "\n",
    "def CRP_Kinematic_Eq(t, y):\n",
    "    \n",
    "    q_1, q_2, q_3 = y\n",
    "    \n",
    "    Q = np.array([[1 + q_1**2, q_1 * q_2 - q_3, q_1 * q_3 + q_2],\n",
    "                  [q_2 * q_1 + q_3, 1 + q_2**2, q_2 * q_3 - q_1],\n",
    "                  [q_3 * q_1 - q_2, q_3 * q_2 + q_1, 1 + q_3**2]])\n",
    "    \n",
    "    w = np.array([sin(0.1 * t), 0.01, cos(0.1 * t)])\n",
    "    \n",
    "    k = np.deg2rad(3)\n",
    "    \n",
    "    dQdt = np.dot(Q, w) * k * 1/2\n",
    "    \n",
    "    return dQdt\n",
    "\n",
    "\n",
    "\n",
    "def RK4(f, dt, y0, t):\n",
    "    \n",
    "    y_plot = np.zeros((N-1,3))\n",
    "    t_plot = []\n",
    "                      \n",
    "    for i in range(0, N-1): \n",
    "    \n",
    "        f1 = f(t, y0)\n",
    "        f2 = f(t + (dt / 2), y0 + (dt / 2) * f1)\n",
    "        f3 = f(t + (dt / 2), y0 + (dt / 2) * f2)\n",
    "        f4 = f(t + dt, y0 + dt * f3)\n",
    "    \n",
    "        y0 = y0 + (dt / 6) * (f1 + 2 * f2 + 2 * f3 + f4)\n",
    "        \n",
    "        t = t + dt\n",
    "        \n",
    "        y_plot[i] = y0; t_plot.append(t)\n",
    "    \n",
    "    return y_plot, t_plot\n",
    "\n",
    "\n",
    "solution = RK4(CRP_Kinematic_Eq, dt, y0, t)"
   ]
  },
  {
   "cell_type": "code",
   "execution_count": 6,
   "id": "7df938c2",
   "metadata": {},
   "outputs": [
    {
     "data": {
      "image/png": "[encoded data removed]",
      "text/plain": [
       "<Figure size 432x288 with 1 Axes>"
      ]
     },
     "metadata": {
      "needs_background": "light"
     },
     "output_type": "display_data"
    }
   ],
   "source": [
    "plt.plot(solution[1], solution[0][:,0], label = \"q_0\")\n",
    "plt.plot(solution[1], solution[0][:,1], label = \"q_1\")\n",
    "plt.plot(solution[1], solution[0][:,2], label = \"q_2\")\n",
    "\n",
    "plt.legend()\n",
    "plt.title(\"The rate of change of q\")\n",
    "plt.xlabel(\"Time (s)\")\n",
    "plt.ylabel(\"Angles (rads)\")\n",
    "plt.grid(true)"
   ]
  },
  {
   "cell_type": "code",
   "execution_count": 4,
   "id": "b594291c",
   "metadata": {},
   "outputs": [
    {
     "name": "stdout",
     "output_type": "stream",
     "text": [
      "1.19970670772359\n"
     ]
    }
   ],
   "source": [
    "#Finding the norm of the vector (i.e: sqrt(q_1^2 + q_2^2 + q_3^2)) at 42s.\n",
    "print(sqrt((solution[0][:,0][-1])**2 + (solution[0][:,1][-1])**2 + (solution[0][:,2][-1])**2 ))"
   ]
  }
 ],
 "metadata": {
  "kernelspec": {
   "display_name": "Python 3 (ipykernel)",
   "language": "python",
   "name": "python3"
  },
  "language_info": {
   "codemirror_mode": {
    "name": "ipython",
    "version": 3
   },
   "file_extension": ".py",
   "mimetype": "text/x-python",
   "name": "python",
   "nbconvert_exporter": "python",
   "pygments_lexer": "ipython3",
   "version": "3.9.12"
  }
 },
 "nbformat": 4,
 "nbformat_minor": 5
}
