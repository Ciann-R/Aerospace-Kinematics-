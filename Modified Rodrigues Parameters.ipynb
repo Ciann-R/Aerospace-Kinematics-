{
 "cells": [
  {
   "cell_type": "code",
   "execution_count": 1,
   "id": "db96e91f",
   "metadata": {},
   "outputs": [],
   "source": [
    "import numpy as np\n",
    "import matplotlib.pyplot as plt\n",
    "from scipy.integrate import *\n",
    "from sympy import *"
   ]
  },
  {
   "cell_type": "markdown",
   "id": "22c7c01a",
   "metadata": {},
   "source": [
    "## Modified Rodrigues Parameters:"
   ]
  },
  {
   "cell_type": "markdown",
   "id": "756b6d24",
   "metadata": {},
   "source": [
    "The mapping from a set of given Rodrigues parameters: $\\sigma = (\\sigma_1, \\sigma_2, \\sigma_3) $ to its corresponding DCM can be achieved directly via the compact vector computation:"
   ]
  },
  {
   "cell_type": "markdown",
   "id": "0b038c47",
   "metadata": {},
   "source": [
    "$$\n",
    "[C] = [I_{3x3}] + \\frac{8[\\tilde{\\sigma}]^2 - 4(1 - \\sigma^2)[\\tilde{\\sigma}]}{(1 + \\sigma^2)^2}\n",
    "$$"
   ]
  },
  {
   "cell_type": "markdown",
   "id": "62971832",
   "metadata": {},
   "source": [
    "Where $[I_{3x3}]$ is the identity matrix and $[\\tilde{\\sigma}]$ is a skew symetric matrix corresponding to the given set of MRPs."
   ]
  },
  {
   "cell_type": "code",
   "execution_count": 2,
   "id": "51d24840",
   "metadata": {},
   "outputs": [],
   "source": [
    "def skew(x):\n",
    "    return np.array([[0, -x[2], x[1]],\n",
    "                     [x[2], 0, -x[0]],\n",
    "                     [-x[1], x[0], 0]])\n",
    "\n",
    "def MRP_to_DCM(a):\n",
    "    a_norm = np.linalg.norm(a)\n",
    "    return np.eye(3) + (1/(1 + a_norm**2))**2 * ((8 * np.dot(skew(a),skew(a))) - 4 * (1 - a_norm**2) * skew(a))\n",
    "    "
   ]
  },
  {
   "cell_type": "code",
   "execution_count": 3,
   "id": "c7afcee2",
   "metadata": {},
   "outputs": [
    {
     "name": "stdout",
     "output_type": "stream",
     "text": [
      "[[ 0.19975377  0.91720529 -0.34472145]\n",
      " [-0.67097568  0.38442598  0.63404124]\n",
      " [ 0.71406587  0.10464758  0.69221299]]\n"
     ]
    }
   ],
   "source": [
    "a = np.array([0.1, 0.2, 0.3])\n",
    "\n",
    "print(MRP_to_DCM(a))"
   ]
  },
  {
   "cell_type": "markdown",
   "id": "f2fe78d6",
   "metadata": {},
   "source": [
    "The relationship between the set of quaternions and the MRPs is as follows:"
   ]
  },
  {
   "cell_type": "markdown",
   "id": "e2faaaf4",
   "metadata": {},
   "source": [
    "\n",
    "$$\n",
    "\\sigma_i = \\frac{\\beta_i}{1 + \\beta_0}\n",
    "$$\n",
    "\n",
    "Shadow set:\n",
    "$$\n",
    "\\sigma_i = \\frac{-\\beta_i}{1 - \\beta_0}\n",
    "$$\n",
    "\n",
    "$i \\in 1, 2, 3$\n"
   ]
  },
  {
   "cell_type": "markdown",
   "id": "87631d99",
   "metadata": {},
   "source": [
    "The inverse mappings from the DCM to the MRPs are as follows: "
   ]
  },
  {
   "cell_type": "markdown",
   "id": "614acf20",
   "metadata": {},
   "source": [
    "$$\n",
    "\\zeta = \\sqrt{Trace[C] + 1}\n",
    "$$\n",
    "\n",
    "$$\n",
    "\\frac{1}{\\zeta(\\zeta + 2)} \\left[\\begin{array}{cc} \n",
    "C_{23} - C_{32} \\\\\n",
    "C_{31} - C_{13} \\\\\n",
    "C_{12} - C_{21} \n",
    "\\end{array}\\right] \n",
    "$$"
   ]
  },
  {
   "cell_type": "code",
   "execution_count": 4,
   "id": "a3db3ab0",
   "metadata": {},
   "outputs": [],
   "source": [
    "def Quaternion_to_MRP(q):\n",
    "    sig = [q[i]/(1+q[0]) for i in range(1,len(q))]\n",
    "    sig_shadow = [-q[i]/(1-q[0]) for i in range(1,len(q))]\n",
    "    return sig, sig_shadow\n",
    " \n",
    "def DCM_to_MRP(C):\n",
    "    z = np.sqrt(C.trace() + 1)\n",
    "    return (1/(z*(z+2))) * np.array([[C[1][2] - C[2][1]],\n",
    "                                     [C[2][0] - C[0][2]],\n",
    "                                     [C[0][1] - C[1][0]]])"
   ]
  },
  {
   "cell_type": "code",
   "execution_count": 5,
   "id": "68edc94b",
   "metadata": {},
   "outputs": [
    {
     "name": "stdout",
     "output_type": "stream",
     "text": [
      "[[-0.49999988]\n",
      " [ 0.09999998]\n",
      " [ 0.19999983]]\n"
     ]
    }
   ],
   "source": [
    "G = np.array([[ 0.763314, 0.0946746, -0.639053],\n",
    "              [-0.568047, -0.372781, -0.733728],\n",
    "              [-0.307692,  0.923077, -0.230769]])\n",
    "\n",
    "print(DCM_to_MRP(G))"
   ]
  },
  {
   "cell_type": "code",
   "execution_count": 13,
   "id": "ea0b7966",
   "metadata": {},
   "outputs": [
    {
     "name": "stdout",
     "output_type": "stream",
     "text": [
      "[2 2 2]\n"
     ]
    }
   ],
   "source": [
    "y = np.array([2, 2, 2])\n",
    "a_norm = np.linalg.norm(y)\n",
    "\n",
    "#print(np.eye(3) * (1 - a_norm**2))\n",
    "\n",
    "#print(np.dot(np.eye(3), (1 - a_norm**2)))\n",
    "\n",
    "#print(np.dot(y, y.T))\n",
    "\n",
    "print(y)"
   ]
  },
  {
   "cell_type": "markdown",
   "id": "9d50a005",
   "metadata": {},
   "source": [
    "## MRP Kinematic Differential Equations"
   ]
  },
  {
   "cell_type": "markdown",
   "id": "74988533",
   "metadata": {},
   "source": [
    "$$\n",
    "\\dot{\\sigma} = \\frac{1}{4}[(1 - \\sigma^2)[I_{3x3}] + 2[\\tilde{\\sigma}] + 2\\sigma\\sigma^T]\\omega\n",
    "$$"
   ]
  },
  {
   "cell_type": "markdown",
   "id": "4b69da9c",
   "metadata": {},
   "source": [
    "$$\n",
    "\\equiv \\frac{1}{4}[B(\\sigma)]\\omega\n",
    "$$"
   ]
  },
  {
   "cell_type": "code",
   "execution_count": 120,
   "id": "7bd2908d",
   "metadata": {},
   "outputs": [],
   "source": [
    "#Initial Conditions:\n",
    "dt = 0.1\n",
    "T = 42\n",
    "N = int(T/dt)\n",
    "y0 = np.array([0.4, 0.2, -0.1])\n",
    "t = 0\n",
    "\n",
    "\"\"\"\n",
    "The MRP consitions are limited explicitly to short rotations only using the conditions: \n",
    "\n",
    "if normalisation of MRP initial condt. vector > 1: q_i -> -q_i/normalisation^2. Otherwise continue.\n",
    "\n",
    "\"\"\"\n",
    "\n",
    "\n",
    "def MRP_Kinematic_Eq(t, y):\n",
    "    \n",
    "    q_1, q_2, q_3 = y\n",
    "    \n",
    "    norm = (np.dot(y,y)/sqrt(np.dot(y,y)))\n",
    "    \n",
    "    w = np.array([sin(0.1 * t), 0.01, cos(0.1 * t)], dtype = np.float64)\n",
    "    \n",
    "    k = np.deg2rad(20)\n",
    "    \n",
    "    Q = np.array([[1 - norm**2 + 2 * q_1**2, 2 * (q_1 * q_2 - q_3), 2 * (q_1 * q_3 + q_2)],\n",
    "                  [2 * (q_1 * q_2 + q_3), 1 - norm**2 + 2 * q_2**2, 2 * (q_2 * q_3 - q_1)],\n",
    "                  [2 * (q_1 * q_3 - q_2), 2 * (q_2 * q_3 + q_1), 1 - norm**2 + 2 * q_3**2]] , dtype = np.float64)\n",
    "    \n",
    "    dQdt = np.dot(Q, w) * k *1/4\n",
    "    \n",
    "    return dQdt\n",
    "    \n",
    "\n",
    "\n",
    "def RK4(f, dt, y0, t):\n",
    "    \n",
    "    y_plot = np.zeros((N-1,3))\n",
    "    t_plot = []\n",
    "                      \n",
    "    for i in range(0, N-1): \n",
    "    \n",
    "        f1 = f(t, y0)\n",
    "        f2 = f(t + (dt / 2), y0 + (dt / 2) * f1)\n",
    "        f3 = f(t + (dt / 2), y0 + (dt / 2) * f2)\n",
    "        f4 = f(t + dt, y0 + dt * f3)\n",
    "    \n",
    "        y0 = y0 + (dt / 6) * (f1 + 2 * f2 + 2 * f3 + f4)\n",
    "        \n",
    "        t = t + dt\n",
    "        \n",
    "        #Switching the terms if the normalisation conditions are greater than 1.\n",
    "        norm = (np.dot(y0,y0)/sqrt(np.dot(y0,y0)))\n",
    "        \n",
    "        if norm > 1.0:\n",
    "        \n",
    "            y0[0] = -y0[0] / norm**2\n",
    "        \n",
    "            y0[1] = -y0[1] / norm**2\n",
    "        \n",
    "            y0[2] = -y0[2] / norm**2\n",
    "        \n",
    "        y_plot[i] = y0; t_plot.append(t)\n",
    "        \n",
    "        \n",
    "         \n",
    "    return y_plot, t_plot\n",
    "\n",
    "\n",
    "solution = RK4(MRP_Kinematic_Eq, dt, y0, t)\n"
   ]
  },
  {
   "cell_type": "code",
   "execution_count": 121,
   "id": "92cb72fa",
   "metadata": {},
   "outputs": [
    {
     "data": {
      "image/png": "[encoded data removed]",
      "text/plain": [
       "<Figure size 432x288 with 1 Axes>"
      ]
     },
     "metadata": {
      "needs_background": "light"
     },
     "output_type": "display_data"
    }
   ],
   "source": [
    "plt.plot(solution[1], solution[0][:,0], label = \"q_0\")\n",
    "plt.plot(solution[1], solution[0][:,1], label = \"q_1\")\n",
    "plt.plot(solution[1], solution[0][:,2], label = \"q_2\")\n",
    "\n",
    "plt.legend()\n",
    "plt.title(\"The rate of change of q\")\n",
    "plt.xlabel(\"Time (s)\")\n",
    "plt.ylabel(\"Angles (rads)\")\n",
    "plt.grid(true)"
   ]
  },
  {
   "cell_type": "code",
   "execution_count": 122,
   "id": "0618783d",
   "metadata": {},
   "outputs": [
    {
     "name": "stdout",
     "output_type": "stream",
     "text": [
      "0.640052885898210\n"
     ]
    }
   ],
   "source": [
    "#Finding the norm of the vector (i.e: sqrt(a_1^2 + a_2^2 + a_3^2)) at 42s.\n",
    "print(sqrt((solution[0][:,0][-1])**2 + (solution[0][:,1][-1])**2 + (solution[0][:,2][-1])**2 ))"
   ]
  }
 ],
 "metadata": {
  "kernelspec": {
   "display_name": "Python 3 (ipykernel)",
   "language": "python",
   "name": "python3"
  },
  "language_info": {
   "codemirror_mode": {
    "name": "ipython",
    "version": 3
   },
   "file_extension": ".py",
   "mimetype": "text/x-python",
   "name": "python",
   "nbconvert_exporter": "python",
   "pygments_lexer": "ipython3",
   "version": "3.9.12"
  }
 },
 "nbformat": 4,
 "nbformat_minor": 5
}
