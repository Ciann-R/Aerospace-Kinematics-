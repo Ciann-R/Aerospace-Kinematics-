{
 "cells": [
  {
   "cell_type": "code",
   "execution_count": 189,
   "id": "cc4bdf27",
   "metadata": {},
   "outputs": [],
   "source": [
    "import numpy as np\n",
    "import matplotlib.pyplot as plt\n",
    "from scipy.integrate import *\n",
    "from sympy import *"
   ]
  },
  {
   "cell_type": "markdown",
   "id": "29b14418",
   "metadata": {},
   "source": [
    "## The Triad Method."
   ]
  },
  {
   "cell_type": "markdown",
   "id": "fa1efe67",
   "metadata": {},
   "source": [
    "In order to acquire the desired directional cosine matrix, $[BN]$ an intermediary triad frame $V_i$ is introduced. This frame can be expressed as components of either the body $B$ or inertial $N$ frames.  "
   ]
  },
  {
   "cell_type": "markdown",
   "id": "94970d15",
   "metadata": {},
   "source": [
    "The inertial frame triad vectors:"
   ]
  },
  {
   "cell_type": "markdown",
   "id": "9eb706da",
   "metadata": {},
   "source": [
    "$$\n",
    "{}^N\\hat{v_1} = {}^N\\hat{s}\n",
    "$$\n",
    "\n",
    "$$\n",
    "{}^N\\hat{v_2} = \\frac{({}^N\\hat{s}) \\times ({}^N\\hat{m})}{|({}^N\\hat{s}) \\times ({}^N\\hat{m})|}\n",
    "$$\n",
    "\n",
    "$$\n",
    "{}^N\\hat{v_3} = ({}^N\\hat{v_1}) \\times ({}^N\\hat{v_2})\n",
    "$$"
   ]
  },
  {
   "cell_type": "markdown",
   "id": "53def3cc",
   "metadata": {},
   "source": [
    "The body frame triad vectors:"
   ]
  },
  {
   "cell_type": "markdown",
   "id": "7b56570b",
   "metadata": {},
   "source": [
    "$$\n",
    "{}^B\\hat{v_1} = {}^B\\hat{s}\n",
    "$$\n",
    "\n",
    "$$\n",
    "{}^B\\hat{v_2} = \\frac{({}^B\\hat{s}) \\times ({}^B\\hat{m})}{|({}^B\\hat{s}) \\times ({}^B\\hat{m})|}\n",
    "$$\n",
    "\n",
    "$$\n",
    "{}^B\\hat{v_3} = ({}^B\\hat{v_1}) \\times ({}^B\\hat{v_2})\n",
    "$$"
   ]
  },
  {
   "cell_type": "markdown",
   "id": "ed65cb2d",
   "metadata": {},
   "source": [
    "Thus one finds the estimated DCM $[\\bar{B}N]$ via:\n",
    "\n",
    "\n"
   ]
  },
  {
   "cell_type": "markdown",
   "id": "295e269a",
   "metadata": {},
   "source": [
    "$$\n",
    "[\\bar{B}T] = [{}^B\\hat{v_1}, {}^B\\hat{v_2}, {}^B\\hat{v_3}]\n",
    "$$\n",
    "\n",
    "$$\n",
    "[NT] = [{}^N\\hat{v_1}, {}^N\\hat{v_2}, {}^N\\hat{v_3}]\n",
    "$$\n",
    "\n",
    "$$\n",
    "[\\bar{B}N] = [\\bar{B}T][NT]^T\n",
    "$$"
   ]
  },
  {
   "cell_type": "markdown",
   "id": "a313494f",
   "metadata": {},
   "source": [
    "For example: A spacecraft has two attitude sensors, sensing two unit vector directions, $v_i$, $i \\in 1,2$ with $v_1$ being the more accurate sensor (i.e: Configure $t_1$ and $v_1$ to be co-linear).  "
   ]
  },
  {
   "cell_type": "markdown",
   "id": "eec5dd10",
   "metadata": {},
   "source": [
    "At an instant in time, the two vectors measured by the sensors have the body frame components:"
   ]
  },
  {
   "cell_type": "markdown",
   "id": "663425e4",
   "metadata": {},
   "source": [
    "$\n",
    "{}^B\\hat{v_1} = \n",
    "\\left(\\begin{array}{cc} \n",
    "0.8273 \\\\\n",
    "0.5541 \\\\\n",
    "-0.0920\n",
    "\\end{array}\\right)\n",
    "$\n",
    "$\n",
    "{}^B\\hat{v_2} = \n",
    "\\left(\\begin{array}{cc} \n",
    "-0.8285 \\\\\n",
    "0.5522 \\\\\n",
    "-0.0955\n",
    "\\end{array}\\right)\n",
    "$"
   ]
  },
  {
   "cell_type": "markdown",
   "id": "44ae1dff",
   "metadata": {},
   "source": [
    "And simultaneously, the four vectors are measured to have the inertial frame components:"
   ]
  },
  {
   "cell_type": "markdown",
   "id": "cc114880",
   "metadata": {},
   "source": [
    "$\n",
    "{}^N\\hat{v_1} = \n",
    "\\left(\\begin{array}{cc} \n",
    "-0.1517 \\\\\n",
    "-0.9669\\\\\n",
    "-0.2050\n",
    "\\end{array}\\right)\n",
    "$\n",
    "$\n",
    "{}^N\\hat{v_2} = \n",
    "\\left(\\begin{array}{cc} \n",
    "-0.8393 \\\\\n",
    "0.4494 \\\\\n",
    "-0.3044\n",
    "\\end{array}\\right)\n",
    "$"
   ]
  },
  {
   "cell_type": "markdown",
   "id": "60cc9856",
   "metadata": {},
   "source": [
    "Using the Triad method to find $[\\bar{B}N]$:"
   ]
  },
  {
   "cell_type": "code",
   "execution_count": 35,
   "id": "9652019e",
   "metadata": {},
   "outputs": [],
   "source": [
    "B_v1 = np.array([0.8273, 0.5541, -0.0920],  dtype=np.float64)\n",
    "B_v2 = np.array([-0.8285, 0.5522, -0.0955], dtype=np.float64)\n",
    "\n",
    "N_v1 = np.array([-0.1517, -0.9669, 0.2050], dtype=np.float64)\n",
    "N_v2 = np.array([-0.8393, 0.4494, -0.3044], dtype=np.float64)"
   ]
  },
  {
   "cell_type": "code",
   "execution_count": 36,
   "id": "1eea405f",
   "metadata": {},
   "outputs": [],
   "source": [
    "def Triad_Method(a, b):\n",
    "    \n",
    "    axb = np.cross(a, b)\n",
    "    axb_norm = np.linalg.norm(axb)\n",
    "    \n",
    "    v_1 = a\n",
    "    v_2 = axb/axb_norm\n",
    "    v_3 = np.cross(v_1, v_2)\n",
    "    \n",
    "    C = np.array([v_1, v_2, v_3])\n",
    "    \n",
    "    return C.T"
   ]
  },
  {
   "cell_type": "code",
   "execution_count": 37,
   "id": "a0e9f543",
   "metadata": {},
   "outputs": [],
   "source": [
    "BT = Triad_Method(B_v1, B_v2)\n",
    "NT = Triad_Method(N_v1, N_v2)"
   ]
  },
  {
   "cell_type": "code",
   "execution_count": 38,
   "id": "e0be6e7e",
   "metadata": {},
   "outputs": [],
   "source": [
    "#Solving for BN via the property: [BN] = [BT][NT]^T\n",
    "BN = np.dot(BT, np.linalg.inv(NT))"
   ]
  },
  {
   "cell_type": "code",
   "execution_count": 39,
   "id": "e423c4cd",
   "metadata": {},
   "outputs": [
    {
     "name": "stdout",
     "output_type": "stream",
     "text": [
      "[[ 0.41555513 -0.85508344  0.31004653]\n",
      " [-0.83392479 -0.49427207 -0.24545395]\n",
      " [ 0.36313468 -0.15655987 -0.91848883]]\n"
     ]
    }
   ],
   "source": [
    "print(BN)"
   ]
  },
  {
   "cell_type": "markdown",
   "id": "b56d995b",
   "metadata": {},
   "source": [
    "The estimation error of $[\\bar{BN}]$ can be found by computing the difference in both angles of $[\\bar{B}N]$ and $[BN]$ corresponding to the principal rotation vector:"
   ]
  },
  {
   "cell_type": "code",
   "execution_count": 40,
   "id": "f089fad0",
   "metadata": {},
   "outputs": [],
   "source": [
    "def PRV_Angle(C):\n",
    "    return np.arccos(0.5 * (C.trace() - 1))\n",
    "    "
   ]
  },
  {
   "cell_type": "code",
   "execution_count": 41,
   "id": "fd7021f6",
   "metadata": {},
   "outputs": [
    {
     "name": "stdout",
     "output_type": "stream",
     "text": [
      "Error (degrees): 1.8284522666836571\n"
     ]
    }
   ],
   "source": [
    "B_N = np.array([[ 0.969846,  0.17101, 0.173648],\n",
    "                [-0.200706,  0.96461,  0.17101],\n",
    "                [-0.138258, -0.20076, 0.969846]],)\n",
    "\n",
    "BN = np.array([[ 0.963592,  0.187303, 0.190809],\n",
    "               [-0.223042,  0.956645, 0.187303],\n",
    "               [-0.147454, -0.223042, 0.963592]])\n",
    "\n",
    "a_B_N = PRV_Angle(B_N)\n",
    "a_BN = PRV_Angle(BN)\n",
    "\n",
    "print('Error (degrees):', np.rad2deg(a_BN - a_B_N))"
   ]
  },
  {
   "cell_type": "markdown",
   "id": "3e0d3eb3",
   "metadata": {},
   "source": [
    "## Devenport's q-Method."
   ]
  },
  {
   "cell_type": "markdown",
   "id": "f0decd8a",
   "metadata": {},
   "source": [
    "The goal is to minimize the cost function $J$ where, \n",
    "$$\n",
    "J = \\sum_{k = 1}^N w_k(1 - {}^B\\hat{v}_k^T[\\bar{B}N]{}^N\\hat{v}_k)\n",
    "$$"
   ]
  },
  {
   "cell_type": "markdown",
   "id": "11898ae7",
   "metadata": {},
   "source": [
    "In order to do this, we extract function $g$ and find its extremum (maximum), where, \n",
    "$$\n",
    "g = -\\sum_{k = 1}^N w_k{}^B\\hat{v}_k^T[\\bar{B}N]{}^N\\hat{v}_k\n",
    "$$"
   ]
  },
  {
   "cell_type": "markdown",
   "id": "1f8f1263",
   "metadata": {},
   "source": [
    "$g$ can be re-expressed in terms of its quaternion components using a $4 x 4$ matrix $[K]$ such that:\n",
    "$$\n",
    "g(\\hat{q}) = \\hat{q}^T[K]\\hat{q}\n",
    "$$\n",
    "\n",
    "Where,\n",
    "\n",
    "$$\n",
    "[K] = \\left(\\begin{array}{cc} \n",
    "\\sigma & Z^T \\\\\n",
    "Z & S- \\sigma I\n",
    "\\end{array}\\right)\n",
    "$$\n",
    "\n",
    "and,\n",
    "\n",
    "$\\sigma = Trace[B]$  \n",
    "\n",
    "$[S] = [B] + [B]^T$ \n",
    "\n",
    "$[Z] = [B_{23} - B_{32}, B_{31} - B_{13}, B_{12} - B_{21}]^T$\n",
    "\n",
    "$[B] = \\sum_{k=1}^N w_k{}^B\\hat{v}_k{}^N\\hat{v}_k^T$"
   ]
  },
  {
   "cell_type": "markdown",
   "id": "b1af9691",
   "metadata": {},
   "source": [
    "The maximal eigenvalue and corresponding eihenfunction is determined from $[K]$, thus maximizing $g$."
   ]
  },
  {
   "cell_type": "code",
   "execution_count": 60,
   "id": "76835bb3",
   "metadata": {},
   "outputs": [],
   "source": [
    "def OuterProduct(Bv, Nv):\n",
    "    \"\"\"Outer Product BvNv^T:\"\"\"\n",
    "#     B = np.array([[bv[0] * nv[0], bv[0] * nv[1], bv[0] * nv[2]],\n",
    "#                   [bv[1] * nv[0], bv[1] * nv[1], bv[1] * nv[2]],\n",
    "#                   [bv[2] * nv[0], bv[2] * nv[1], bv[2] * nv[2]]])\n",
    "            \n",
    "    \"\"\"Using list comprehensions (I like list comprehensions)\"\"\"\n",
    "    vvT = np.array([Bv[i]*Nv[j] for i in range(len(Bv)) for j in range(len(Nv))])\n",
    "    return vvT.reshape(3,3)\n",
    "\n",
    "def Bmatrix(BNv1, BNv2, w1, w2):\n",
    "    return BNv1 * w1 + BNv2 * w2"
   ]
  },
  {
   "cell_type": "code",
   "execution_count": 85,
   "id": "9cc0b9a3",
   "metadata": {},
   "outputs": [],
   "source": [
    "B = Bmatrix(OuterProduct(B_v1, N_v1), OuterProduct(B_v2, N_v2), 1, 1)"
   ]
  },
  {
   "cell_type": "code",
   "execution_count": 224,
   "id": "6029ac84",
   "metadata": {},
   "outputs": [],
   "source": [
    "def Kmatrix(B):\n",
    "    sig = B.trace()  \n",
    "    S = B + B.T\n",
    "    Z = [B[1][2] - B[2][1], B[2][0] - B[0][2], B[0][1] - B[1][0]]\n",
    "    SsI = S - sig*np.eye(3)\n",
    "    \n",
    "    return np.array([[ sig,      Z[0],      Z[1],      Z[2]],\n",
    "                     [Z[0], SsI[0][0], SsI[0][1], SsI[0][2]],\n",
    "                     [Z[1], SsI[1][0], SsI[1][1], SsI[1][2]],\n",
    "                     [Z[2], SsI[2][0], SsI[2][1], SsI[2][2]]])"
   ]
  },
  {
   "cell_type": "code",
   "execution_count": 225,
   "id": "af02bca0",
   "metadata": {},
   "outputs": [],
   "source": [
    "K = Kmatrix(B)"
   ]
  },
  {
   "cell_type": "code",
   "execution_count": 131,
   "id": "ad2d76bc",
   "metadata": {},
   "outputs": [
    {
     "name": "stdout",
     "output_type": "stream",
     "text": [
      "Index:  3\n",
      "Max eigenvalue:  1.9996751423328836\n",
      "Eigenvector:  [ 0.02640542 -0.84099401  0.50198046 -0.20011858]\n"
     ]
    }
   ],
   "source": [
    "#Solving for the eigenvalues and corresponding eigenvectors.\n",
    "eig, eigvec = np.linalg.eig(K)\n",
    "\n",
    "#Determining the index corresponding to the maximum eigenvalue. (np returns the eigenvectors as column format)\n",
    "idx, max_eig = np.argmax(eig), max(eig)\n",
    "eig_vec = eigvec[:, idx]\n",
    "\n",
    "print(\"Index: \", idx)\n",
    "print(\"Max eigenvalue: \", max_eig)\n",
    "print(\"Eigenvector: \", eig_vec)"
   ]
  },
  {
   "cell_type": "code",
   "execution_count": 132,
   "id": "54cb14e1",
   "metadata": {},
   "outputs": [],
   "source": [
    "#The Eigenvector is in quaternion format, therefore, to acquire the corresponding DCM:\n",
    "def Q_to_DCM(q):\n",
    "    \n",
    "    q_0, q_1, q_2, q_3 = q\n",
    "    \n",
    "    return np.array([[q_0**2 + q_1**2 - q_2**2 - q_3**2, 2 * (q_1 * q_2 + q_0 * q_3), 2 * (q_1 * q_3 - q_0 * q_2)],\n",
    "                     [2 * (q_1 * q_2 - q_0 * q_3), q_0**2 - q_1**2 + q_2**2 - q_3**2, 2 * (q_2 * q_3 + q_0 * q_1)],\n",
    "                     [2 * (q_1 * q_3 + q_0 * q_2), 2 * (q_2 * q_3 - q_0 * q_1), q_0**2 - q_1**2 - q_2**2 + q_3**2]],\n",
    "                     dtype = np.float64)"
   ]
  },
  {
   "cell_type": "code",
   "execution_count": 133,
   "id": "f66c4afe",
   "metadata": {},
   "outputs": [
    {
     "name": "stdout",
     "output_type": "stream",
     "text": [
      "[[ 0.41593634 -0.85489355  0.31008704]\n",
      " [-0.83375669 -0.49463674 -0.24532484]\n",
      " [ 0.36310707 -0.15649763 -0.91851061]]\n"
     ]
    }
   ],
   "source": [
    "print(Q_to_DCM(eig_vec))"
   ]
  },
  {
   "cell_type": "markdown",
   "id": "7109b763",
   "metadata": {},
   "source": [
    "## Quest."
   ]
  },
  {
   "cell_type": "markdown",
   "id": "c54c9105",
   "metadata": {},
   "source": [
    "The cost function $J$ is now rewritten as:\n",
    "\n",
    "$$\n",
    "J = \\sum_{k = 1}^N w_k - g \\equiv \\sum_{k = 1}^N w_k - \\lambda_{opt}\n",
    "$$"
   ]
  },
  {
   "cell_type": "markdown",
   "id": "945af811",
   "metadata": {},
   "source": [
    "Such that:\n",
    "$$\n",
    "\\lambda_{opt} = \\sum_{k = 1}^N w_k - J\n",
    "$$\n",
    "\n",
    "$$\n",
    "\\lambda_{opt} \\approx \\sum_{k = 1}^N w_k\n",
    "$$\n",
    "\n",
    "As $J << 1.$"
   ]
  },
  {
   "cell_type": "markdown",
   "id": "f168d6ea",
   "metadata": {},
   "source": [
    "The Newton-Raphson method is employed to obtain a more accurate value for $\\lambda_{opt}$:\n",
    "$$\n",
    "\\lambda_{max} = \\lambda_{i} = \\lambda_{i-1} - \\frac{f(\\lambda_{i-1})}{f'(\\lambda_{i-1})}\n",
    "$$"
   ]
  },
  {
   "cell_type": "code",
   "execution_count": 250,
   "id": "85cd5b09",
   "metadata": {},
   "outputs": [],
   "source": [
    "symbols = \"s\"\n",
    "\n",
    "w1, w2 = 1.0, 2.0\n",
    "\n",
    "#eig0 = w1 + w2\n",
    "\n",
    "#f(s) = det([K]-s[I]), where f(s) corresponds to the eigensolutions.\n",
    "def f(K):\n",
    "    return det(K - s*eye(4)) \n",
    "\n",
    "#f'(s) = d/ds(det([K]-s[I])) which has a general form.\n",
    "def dfds(f):\n",
    "    return diff(f, s)\n",
    "    \n",
    "#eig[i] = eig[i-1] - f(eig[i-1])/f'(eig[i-1])   \n",
    "def Newton_Raphson(f, dfds, eig0):\n",
    "    \n",
    "    for i in range(1,10):\n",
    "        \n",
    "        eig0 -= (f/dfds).evalf(subs={s:eig0})\n",
    "        \n",
    "    return np.float64(eig0)\n",
    "\n",
    "f = f(K)\n",
    "dfds = dfds(f)\n",
    "eig_opt = Newton_Raphson(f, dfds, eig0)"
   ]
  },
  {
   "cell_type": "markdown",
   "id": "3482acc0",
   "metadata": {},
   "source": [
    "Now solving for the CRP coordinate set via:\n",
    "\n",
    "$$\n",
    "([S] - \\sigma[I])\\hat{q} + [Z] = \\lambda_{opt}\\hat{q}\n",
    "$$\n",
    "\n",
    "$$\n",
    "\\hat{q} = \\big((\\lambda_{opt} + \\sigma)[I] - [S]\\big)^{-1}[Z]\n",
    "$$"
   ]
  },
  {
   "cell_type": "code",
   "execution_count": 275,
   "id": "1fa9933b",
   "metadata": {},
   "outputs": [],
   "source": [
    "def CRP(B, e):\n",
    "    \n",
    "    sig = B.trace()  \n",
    "    S = B + B.T\n",
    "    Z = [B[1][2] - B[2][1], B[2][0] - B[0][2], B[0][1] - B[1][0]]\n",
    "\n",
    "    return np.dot(np.linalg.inv((e + sig)*np.eye(3) - S), Z)"
   ]
  },
  {
   "cell_type": "code",
   "execution_count": 276,
   "id": "506ab739",
   "metadata": {},
   "outputs": [],
   "source": [
    "CRP = CRP(B, eig_opt)"
   ]
  },
  {
   "cell_type": "code",
   "execution_count": 278,
   "id": "4951978f",
   "metadata": {},
   "outputs": [
    {
     "name": "stdout",
     "output_type": "stream",
     "text": [
      "[ 0.02640542 -0.84099401  0.50198046 -0.20011858]\n"
     ]
    }
   ],
   "source": [
    "#Converting to Quaternions:\n",
    "q = (1 / np.sqrt(1 + np.dot(CRP, CRP)) * np.insert(CRP, 0, 1))\n",
    "print(q)"
   ]
  },
  {
   "cell_type": "code",
   "execution_count": 279,
   "id": "93037399",
   "metadata": {},
   "outputs": [],
   "source": [
    "#Mapping Quaternions to the corresponding DCM:\n",
    "def Q_to_DCM(q):\n",
    "    \n",
    "    q_0, q_1, q_2, q_3 = q\n",
    "    \n",
    "    return np.array([[q_0**2 + q_1**2 - q_2**2 - q_3**2, 2 * (q_1 * q_2 + q_0 * q_3), 2 * (q_1 * q_3 - q_0 * q_2)],\n",
    "                     [2 * (q_1 * q_2 - q_0 * q_3), q_0**2 - q_1**2 + q_2**2 - q_3**2, 2 * (q_2 * q_3 + q_0 * q_1)],\n",
    "                     [2 * (q_1 * q_3 + q_0 * q_2), 2 * (q_2 * q_3 - q_0 * q_1), q_0**2 - q_1**2 - q_2**2 + q_3**2]],\n",
    "                     dtype = np.float64)\n"
   ]
  },
  {
   "cell_type": "code",
   "execution_count": 280,
   "id": "6676a0e3",
   "metadata": {},
   "outputs": [
    {
     "name": "stdout",
     "output_type": "stream",
     "text": [
      "[[ 0.41593634 -0.85489355  0.31008704]\n",
      " [-0.83375669 -0.49463674 -0.24532484]\n",
      " [ 0.36310707 -0.15649763 -0.91851061]]\n"
     ]
    }
   ],
   "source": [
    "print(Q_to_DCM(q))"
   ]
  },
  {
   "cell_type": "markdown",
   "id": "3fe873e6",
   "metadata": {},
   "source": [
    "## Optimal Linear Attitude Estimator - OLAE"
   ]
  },
  {
   "cell_type": "markdown",
   "id": "2844c065",
   "metadata": {},
   "source": [
    "From the Cayley transform:\n",
    "\n",
    "$$\n",
    "s_i = {}^B\\hat{v_i} + {}^N\\hat{v_i}\n",
    "$$\n",
    "\n",
    "$$\n",
    "d_i = {}^B\\hat{v_i} - {}^N\\hat{v_i}\n",
    "$$\n",
    "\n",
    "Therefore:\n",
    "\n",
    "$$\n",
    "d_i = [\\tilde{s_i}]\\bar{q}\n",
    "$$"
   ]
  },
  {
   "cell_type": "markdown",
   "id": "21f7ea18",
   "metadata": {},
   "source": [
    "Solving for $\\bar{q}$:\n",
    "\n",
    "$$\n",
    "\\bar{q} = \\big([S]^T[W][S]\\big)^{-1}[S]^T[W]d\n",
    "$$"
   ]
  },
  {
   "cell_type": "code",
   "execution_count": 303,
   "id": "d7edaf98",
   "metadata": {},
   "outputs": [],
   "source": [
    "def s(Bv, Nv): return Bv + Nv\n",
    "\n",
    "def d(Bv, Nv): return Bv - Nv\n",
    "\n",
    "def skew(x): return np.array([[0, -x[2], x[1]],\n",
    "                              [x[2], 0, -x[0]],\n",
    "                              [-x[1], x[0], 0]])\n",
    "\n",
    "def q_bar(S, W, d):\n",
    "    STWS = np.linalg.inv(np.linalg.multi_dot((S.T, W, S)))\n",
    "    STWd = np.linalg.multi_dot((S.T, W, d))\n",
    "    return np.dot(STWS, STWd)"
   ]
  },
  {
   "cell_type": "code",
   "execution_count": 304,
   "id": "35c4a3ca",
   "metadata": {},
   "outputs": [],
   "source": [
    "s1 = s(B_v1, N_v1)\n",
    "s2 = s(B_v2, N_v2)\n",
    "\n",
    "d1 = d(B_v1, N_v1)\n",
    "d2 = d(B_v2, N_v2)\n",
    "\n",
    "S = np.vstack((skew(s1), skew(s2)))\n",
    "W = np.eye(6)\n",
    "d = np.vstack((d1, d2)).reshape((6,1))"
   ]
  },
  {
   "cell_type": "code",
   "execution_count": 305,
   "id": "bc0717ab",
   "metadata": {},
   "outputs": [],
   "source": [
    "q_bar = q_bar(S, W, d).reshape((3,))"
   ]
  },
  {
   "cell_type": "code",
   "execution_count": 306,
   "id": "c46b19c0",
   "metadata": {},
   "outputs": [
    {
     "name": "stdout",
     "output_type": "stream",
     "text": [
      "[ 0.0264126  -0.84107459  0.5018673  -0.20006281]\n"
     ]
    }
   ],
   "source": [
    "#Converting to quaternions:\n",
    "q = (1 / np.sqrt(1 + np.dot(q_bar, q_bar)) * np.insert(q_bar, 0, 1))\n",
    "print(q)"
   ]
  },
  {
   "cell_type": "code",
   "execution_count": 307,
   "id": "b7e67dfe",
   "metadata": {},
   "outputs": [
    {
     "name": "stdout",
     "output_type": "stream",
     "text": [
      "[[ 0.41620817 -0.85478402  0.31002425]\n",
      " [-0.83364731 -0.49486317 -0.24523989]\n",
      " [ 0.36304672 -0.15638004 -0.9185545 ]]\n"
     ]
    }
   ],
   "source": [
    "#Quaternion to DCM:\n",
    "print(Q_to_DCM(q))"
   ]
  }
 ],
 "metadata": {
  "kernelspec": {
   "display_name": "Python 3 (ipykernel)",
   "language": "python",
   "name": "python3"
  },
  "language_info": {
   "codemirror_mode": {
    "name": "ipython",
    "version": 3
   },
   "file_extension": ".py",
   "mimetype": "text/x-python",
   "name": "python",
   "nbconvert_exporter": "python",
   "pygments_lexer": "ipython3",
   "version": "3.9.12"
  }
 },
 "nbformat": 4,
 "nbformat_minor": 5
}
